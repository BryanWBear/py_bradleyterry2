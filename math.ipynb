{
 "cells": [
  {
   "cell_type": "markdown",
   "source": [
    "The design matrix is given as follows. If there are $N$ players, then the design matrix $M$ has shape ${N \\choose 2} \\times N$. First, we order the combinations lexicographically, that is: $$\\{1,2\\}, \\{1,3\\}, \\dots, \\{N-1, N\\}$$ If $C_i = \\{a, b\\}$, then $M[i][a] = 1$ and $M[i][b] = -1$. All other entries in the row are set to 0. Afterwards, we delete the first column so that $M$ now has shape ${N \\choose 2} - 1 \\times N$. This ensures that the coefficient of the first player $\\beta_1$ is 0. The other common constraint is $\\sum \\beta_i = 1$. The reason why a constraint is needed is because the optimization problem is scale invariant, so we need to pick some reference. \n",
    "\n",
    "The response $y$ is the ratio of wins. For example, if player 1 won against player 2 $w$ times and lost $l$ times, then $$y[0] = \\frac{w}{w + l}$$\n",
    "\n",
    "Repeat this for all combinations $C_i$ to form $y$."
   ],
   "metadata": {}
  },
  {
   "cell_type": "markdown",
   "source": [],
   "metadata": {}
  }
 ],
 "metadata": {
  "orig_nbformat": 4,
  "language_info": {
   "name": "python"
  }
 },
 "nbformat": 4,
 "nbformat_minor": 2
}